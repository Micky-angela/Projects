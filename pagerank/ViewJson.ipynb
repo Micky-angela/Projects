{
 "cells": [
  {
   "cell_type": "code",
   "execution_count": 1,
   "metadata": {
    "collapsed": true
   },
   "outputs": [],
   "source": [
    "import sqlite3\n",
    "connect = sqlite3.connect('spider.sqlite')\n",
    "con = connect.cursor()"
   ]
  },
  {
   "cell_type": "code",
   "execution_count": 2,
   "metadata": {},
   "outputs": [
    {
     "name": "stdout",
     "output_type": "stream",
     "text": [
      "Create json file named data.js\n",
      "Number of Nodes:30\n"
     ]
    }
   ],
   "source": [
    "print 'Create json file named data.js'\n",
    "num = int(raw_input('Number of Nodes:'))"
   ]
  },
  {
   "cell_type": "code",
   "execution_count": 3,
   "metadata": {},
   "outputs": [
    {
     "data": {
      "text/plain": [
       "<sqlite3.Cursor at 0x106c06180>"
      ]
     },
     "execution_count": 3,
     "metadata": {},
     "output_type": "execute_result"
    }
   ],
   "source": [
    "con.execute('''SELECT COUNT(from_id) AS in_link, old_rank, new_rank, id, url \n",
    "                FROM Pages JOIN Links ON Pages.id = Links.to_id \n",
    "                WHERE html IS NOT NULL AND ERROR IS NULL\n",
    "                GROUP BY id ORDER BY id,in_link''')"
   ]
  },
  {
   "cell_type": "code",
   "execution_count": 4,
   "metadata": {},
   "outputs": [],
   "source": [
    "handle = open('data.js', 'w')\n",
    "nodes, max_rank, min_rank = [], 0, float('inf')\n",
    "for line in con:\n",
    "    nodes.append(line)\n",
    "    rank = line[2]\n",
    "    max_rank = max(max_rank, rank)\n",
    "    min_rank = min(min_rank, rank)\n",
    "    if len(nodes) > num: break\n",
    "if max_rank == min_rank or max_rank ==0 or min_rank == float('inf'):\n",
    "    print 'Error - No valid page rank'\n",
    "    quit()"
   ]
  },
  {
   "cell_type": "code",
   "execution_count": 7,
   "metadata": {},
   "outputs": [],
   "source": [
    "handle.write('dataJson = {\"nodes\":[\\n')\n",
    "count, mp, ranks = 0, {}, {}\n",
    "for line in nodes:\n",
    "    if count > 0: handle.write(',\\n')\n",
    "    rank = line[2]\n",
    "    rank = (num-1) * ( (rank - min_rank) / (max_rank - min_rank) ) # normalization\n",
    "    handle.write('{'+'\"weight\":'+str(line[0])+',\"rank\":'+str(rank)+',\"id\":'+str(line[3])+', \"url\":\"'+line[4]+'\"}')\n",
    "    mp[line[3]], ranks[line[3]] = count, rank\n",
    "    count += 1\n",
    "handle.write('],\\n') "
   ]
  },
  {
   "cell_type": "code",
   "execution_count": null,
   "metadata": {
    "collapsed": true
   },
   "outputs": [],
   "source": [
    "con.execute('''SELECT DISTINCT from_id, to_id FROM Links''')\n",
    "handle.write('\"links\":[\\n')"
   ]
  },
  {
   "cell_type": "code",
   "execution_count": null,
   "metadata": {
    "collapsed": true
   },
   "outputs": [],
   "source": [
    "count = 0\n",
    "for line in con:\n",
    "    if line[0] not in mp or line[1] not in mp: continue\n",
    "    if count > 0: handle.write(',\\n')\n",
    "    rank = ranks[line[0]]\n",
    "    nrank = (num-1)*( (rank - minrank) / (maxrank - minrank) )\n",
    "    handle.write('{\"source\":'+str(map[row[0]])+',\"target\":'+str(map[row[1]])+',\"value\":'+str(nrank)+'}')\n",
    "    count += 1\n",
    "handle.write(']};')\n",
    "handle.close()\n",
    "con.close()\n",
    "\n",
    "print \"Open force.html in a browser to view the visualization\""
   ]
  }
 ],
 "metadata": {
  "kernelspec": {
   "display_name": "Python 2",
   "language": "python",
   "name": "python2"
  },
  "language_info": {
   "codemirror_mode": {
    "name": "ipython",
    "version": 2
   },
   "file_extension": ".py",
   "mimetype": "text/x-python",
   "name": "python",
   "nbconvert_exporter": "python",
   "pygments_lexer": "ipython2",
   "version": "2.7.13"
  }
 },
 "nbformat": 4,
 "nbformat_minor": 2
}
